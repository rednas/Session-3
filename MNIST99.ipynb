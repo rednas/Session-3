{
  "nbformat": 4,
  "nbformat_minor": 0,
  "metadata": {
    "colab": {
      "name": "MNIST99",
      "version": "0.3.2",
      "provenance": [],
      "collapsed_sections": []
    },
    "kernelspec": {
      "name": "python3",
      "display_name": "Python 3"
    },
    "accelerator": "GPU"
  },
  "cells": [
    {
      "cell_type": "code",
      "metadata": {
        "id": "3m3w1Cw49Zkt",
        "colab_type": "code",
        "colab": {}
      },
      "source": [
        "# https://keras.io/\n",
        "\n",
        "#Statement start with \"!\" is a command in Colab.\n",
        "#The following command will quitly install keras python module from python packaging index\n",
        "#After installing keras, it is being imported\n",
        "\n",
        "!pip install -q keras\n",
        "import keras"
      ],
      "execution_count": 0,
      "outputs": []
    },
    {
      "cell_type": "code",
      "metadata": {
        "id": "Eso6UHE080D4",
        "colab_type": "code",
        "colab": {}
      },
      "source": [
        "#numpy is imported with \"np\" as kind of alias. \n",
        "#From here on we can use np instead of numpy.\n",
        "\n",
        "import numpy as np\n",
        "\n",
        "#The following would import relevant models and layer. \n",
        "#Also, we have imported the mnist data set.\n",
        "\n",
        "from keras.models import Sequential\n",
        "from keras.layers import Dense, Dropout, Activation, Flatten, Add, BatchNormalization\n",
        "from keras.layers import Convolution2D, MaxPooling2D\n",
        "from keras.utils import np_utils\n",
        "\n",
        "from keras.datasets import mnist"
      ],
      "execution_count": 0,
      "outputs": []
    },
    {
      "cell_type": "code",
      "metadata": {
        "id": "7eRM0QWN83PV",
        "colab_type": "code",
        "outputId": "f8930785-810b-46c5-f968-72dc4b6c6b3d",
        "colab": {
          "base_uri": "https://localhost:8080/",
          "height": 52
        }
      },
      "source": [
        "# Load MNIST data set into training data and test set data\n",
        "# There are 70,000 images with their labels in MNIST dataset.\n",
        "# Randomly, 60k will be loaded into X_train and their corresponding labels y_train.\n",
        "# Remaining 10k images will be loaded into X_test and their labels y_test.\n",
        "\n",
        "(X_train, y_train), (X_test, y_test) = mnist.load_data()"
      ],
      "execution_count": 4,
      "outputs": [
        {
          "output_type": "stream",
          "text": [
            "Downloading data from https://s3.amazonaws.com/img-datasets/mnist.npz\n",
            "11493376/11490434 [==============================] - 1s 0us/step\n"
          ],
          "name": "stdout"
        }
      ]
    },
    {
      "cell_type": "code",
      "metadata": {
        "id": "4a4Be72j8-ZC",
        "colab_type": "code",
        "outputId": "5c307cc2-43c3-47ef-d4fb-8824038ed9ab",
        "colab": {
          "base_uri": "https://localhost:8080/",
          "height": 304
        }
      },
      "source": [
        "#Printing the shape of Training data set\n",
        "#From this print statement, there are 60,000 images in X train of size 28X28.\n",
        "#Correspoindingly, y_train is a column matrics of size 60000\n",
        "\n",
        "print (X_train.shape)\n",
        "\n",
        "\n",
        "# Using plt.imshow method from matplot library, the first image is printed. y[0] will be have a value of 5.\n",
        "from matplotlib import pyplot as plt\n",
        "%matplotlib inline\n",
        "plt.imshow(X_train[0])"
      ],
      "execution_count": 5,
      "outputs": [
        {
          "output_type": "stream",
          "text": [
            "(60000, 28, 28)\n"
          ],
          "name": "stdout"
        },
        {
          "output_type": "execute_result",
          "data": {
            "text/plain": [
              "<matplotlib.image.AxesImage at 0x7f7ea04370b8>"
            ]
          },
          "metadata": {
            "tags": []
          },
          "execution_count": 5
        },
        {
          "output_type": "display_data",
          "data": {
            "image/png": "[encoded data removed]",
            "text/plain": [
              "<Figure size 432x288 with 1 Axes>"
            ]
          },
          "metadata": {
            "tags": []
          }
        }
      ]
    },
    {
      "cell_type": "code",
      "metadata": {
        "id": "dkmprriw9AnZ",
        "colab_type": "code",
        "colab": {}
      },
      "source": [
        "#Convert the images in training dataset and test set into multidimentional arrays of their pixel intensity values.\n",
        "\n",
        "X_train = X_train.reshape(X_train.shape[0], 28, 28,1)\n",
        "X_test = X_test.reshape(X_test.shape[0], 28, 28,1)"
      ],
      "execution_count": 0,
      "outputs": []
    },
    {
      "cell_type": "code",
      "metadata": {
        "id": "X2m4YS4E9CRh",
        "colab_type": "code",
        "colab": {}
      },
      "source": [
        "#Convert the pixel intensity values into floating point value and normalize the pixel intensities by dividing with 255. Max value of pixel intensity is 255.\n",
        "\n",
        "X_train = X_train.astype('float32')\n",
        "X_test = X_test.astype('float32')\n",
        "X_train /= 255\n",
        "X_test /= 255"
      ],
      "execution_count": 0,
      "outputs": []
    },
    {
      "cell_type": "code",
      "metadata": {
        "id": "0Mn0vAYD9DvB",
        "colab_type": "code",
        "outputId": "b5f9e5c7-b312-4015-efd5-4832054494e5",
        "colab": {
          "base_uri": "https://localhost:8080/",
          "height": 35
        }
      },
      "source": [
        "# Convert 1-dimensional class arrays to 10-dimensional class matrices\n",
        "\n",
        "y_train[:10]"
      ],
      "execution_count": 9,
      "outputs": [
        {
          "output_type": "execute_result",
          "data": {
            "text/plain": [
              "array([5, 0, 4, 1, 9, 2, 1, 3, 1, 4], dtype=uint8)"
            ]
          },
          "metadata": {
            "tags": []
          },
          "execution_count": 9
        }
      ]
    },
    {
      "cell_type": "code",
      "metadata": {
        "id": "ZG8JiXR39FHC",
        "colab_type": "code",
        "colab": {}
      },
      "source": [
        "# Convert 1-dimensional class arrays to 10-dimensional class matrices\n",
        "\n",
        "# This will convert the numbers in the Y_train and y_test into column metrics of size 10. Element corresponding to the number will have value 1 and all other elements will be 0.\n",
        "# For example, 5 will be represented by the column matrics [0,0,0,0,1,0,0,0,0,0]\n",
        "\n",
        "\n",
        "Y_train = np_utils.to_categorical(y_train, 10)\n",
        "Y_test = np_utils.to_categorical(y_test, 10)"
      ],
      "execution_count": 0,
      "outputs": []
    },
    {
      "cell_type": "code",
      "metadata": {
        "id": "fYlFRvKS9HMB",
        "colab_type": "code",
        "outputId": "dc225240-2f71-4030-837e-fc4e24e12f69",
        "colab": {
          "base_uri": "https://localhost:8080/",
          "height": 195
        }
      },
      "source": [
        "#Print first 10 elements in the Y_train after converting into catogorical matrices.\n",
        "\n",
        "Y_train[:10]\n"
      ],
      "execution_count": 12,
      "outputs": [
        {
          "output_type": "execute_result",
          "data": {
            "text/plain": [
              "array([[0., 0., 0., 0., 0., 1., 0., 0., 0., 0.],\n",
              "       [1., 0., 0., 0., 0., 0., 0., 0., 0., 0.],\n",
              "       [0., 0., 0., 0., 1., 0., 0., 0., 0., 0.],\n",
              "       [0., 1., 0., 0., 0., 0., 0., 0., 0., 0.],\n",
              "       [0., 0., 0., 0., 0., 0., 0., 0., 0., 1.],\n",
              "       [0., 0., 1., 0., 0., 0., 0., 0., 0., 0.],\n",
              "       [0., 1., 0., 0., 0., 0., 0., 0., 0., 0.],\n",
              "       [0., 0., 0., 1., 0., 0., 0., 0., 0., 0.],\n",
              "       [0., 1., 0., 0., 0., 0., 0., 0., 0., 0.],\n",
              "       [0., 0., 0., 0., 1., 0., 0., 0., 0., 0.]], dtype=float32)"
            ]
          },
          "metadata": {
            "tags": []
          },
          "execution_count": 12
        }
      ]
    },
    {
      "cell_type": "code",
      "metadata": {
        "id": "osKqT73Q9JJB",
        "colab_type": "code",
        "outputId": "1892d605-5329-44a4-ea2a-359cc5e50400",
        "colab": {
          "base_uri": "https://localhost:8080/",
          "height": 179
        }
      },
      "source": [
        "\n",
        "\n",
        "from keras.layers import Activation\n",
        "model = Sequential()\n",
        "\n",
        " \n",
        "model.add(Convolution2D(8, 3, 3, activation='relu', input_shape=(28,28,1)))#26,3\n",
        "model.add(BatchNormalization())\n",
        "model.add(Dropout(0.1))\n",
        "model.add(Convolution2D(16, 3, 3, activation='relu'))#24,5\n",
        "model.add(BatchNormalization())\n",
        "model.add(Dropout(0.1))\n",
        "model.add(Convolution2D(32, 3, 3, activation='relu'))#22,7\n",
        "model.add(BatchNormalization())\n",
        "model.add(Dropout(0.1))\n",
        "\n",
        "model.add(Convolution2D(16, 1, activation='relu'))#22,7\n",
        "model.add(BatchNormalization())\n",
        "model.add(Dropout(0.2))\n",
        "model.add(MaxPooling2D(2, 2))#11,14\n",
        "\n",
        "model.add(Convolution2D(16, 3, 3, activation='relu'))#9,16\n",
        "model.add(BatchNormalization())\n",
        "model.add(Dropout(0.1))\n",
        "model.add(Convolution2D(32, 3, 3, activation='relu'))#7,18\n",
        "model.add(BatchNormalization())\n",
        "model.add(Dropout(0.1))\n",
        "\n",
        "model.add(Convolution2D(10, 1, activation='relu'))#7,18\n",
        "model.add(Dropout(0.2))\n",
        "model.add(Convolution2D(10, 7))#1,24\n",
        "\n",
        "model.add(Flatten())\n",
        "model.add(Activation('softmax'))"
      ],
      "execution_count": 33,
      "outputs": [
        {
          "output_type": "stream",
          "text": [
            "/usr/local/lib/python3.6/dist-packages/ipykernel_launcher.py:7: UserWarning: Update your `Conv2D` call to the Keras 2 API: `Conv2D(8, (3, 3), activation=\"relu\", input_shape=(28, 28, 1...)`\n",
            "  import sys\n",
            "/usr/local/lib/python3.6/dist-packages/ipykernel_launcher.py:10: UserWarning: Update your `Conv2D` call to the Keras 2 API: `Conv2D(16, (3, 3), activation=\"relu\")`\n",
            "  # Remove the CWD from sys.path while we load stuff.\n",
            "/usr/local/lib/python3.6/dist-packages/ipykernel_launcher.py:13: UserWarning: Update your `Conv2D` call to the Keras 2 API: `Conv2D(32, (3, 3), activation=\"relu\")`\n",
            "  del sys.path[0]\n",
            "/usr/local/lib/python3.6/dist-packages/ipykernel_launcher.py:27: UserWarning: Update your `Conv2D` call to the Keras 2 API: `Conv2D(16, (3, 3), activation=\"relu\")`\n",
            "/usr/local/lib/python3.6/dist-packages/ipykernel_launcher.py:30: UserWarning: Update your `Conv2D` call to the Keras 2 API: `Conv2D(32, (3, 3), activation=\"relu\")`\n"
          ],
          "name": "stderr"
        }
      ]
    },
    {
      "cell_type": "code",
      "metadata": {
        "id": "TzdAYg1k9K7Z",
        "colab_type": "code",
        "outputId": "450d3865-d5a6-41d4-f1e6-399ba2d6d89b",
        "colab": {
          "base_uri": "https://localhost:8080/",
          "height": 995
        }
      },
      "source": [
        "model.summary()"
      ],
      "execution_count": 34,
      "outputs": [
        {
          "output_type": "stream",
          "text": [
            "_________________________________________________________________\n",
            "Layer (type)                 Output Shape              Param #   \n",
            "=================================================================\n",
            "conv2d_93 (Conv2D)           (None, 26, 26, 8)         80        \n",
            "_________________________________________________________________\n",
            "batch_normalization_71 (Batc (None, 26, 26, 8)         32        \n",
            "_________________________________________________________________\n",
            "dropout_82 (Dropout)         (None, 26, 26, 8)         0         \n",
            "_________________________________________________________________\n",
            "conv2d_94 (Conv2D)           (None, 24, 24, 16)        1168      \n",
            "_________________________________________________________________\n",
            "batch_normalization_72 (Batc (None, 24, 24, 16)        64        \n",
            "_________________________________________________________________\n",
            "dropout_83 (Dropout)         (None, 24, 24, 16)        0         \n",
            "_________________________________________________________________\n",
            "conv2d_95 (Conv2D)           (None, 22, 22, 32)        4640      \n",
            "_________________________________________________________________\n",
            "batch_normalization_73 (Batc (None, 22, 22, 32)        128       \n",
            "_________________________________________________________________\n",
            "dropout_84 (Dropout)         (None, 22, 22, 32)        0         \n",
            "_________________________________________________________________\n",
            "conv2d_96 (Conv2D)           (None, 22, 22, 16)        528       \n",
            "_________________________________________________________________\n",
            "batch_normalization_74 (Batc (None, 22, 22, 16)        64        \n",
            "_________________________________________________________________\n",
            "dropout_85 (Dropout)         (None, 22, 22, 16)        0         \n",
            "_________________________________________________________________\n",
            "max_pooling2d_12 (MaxPooling (None, 11, 11, 16)        0         \n",
            "_________________________________________________________________\n",
            "conv2d_97 (Conv2D)           (None, 9, 9, 16)          2320      \n",
            "_________________________________________________________________\n",
            "batch_normalization_75 (Batc (None, 9, 9, 16)          64        \n",
            "_________________________________________________________________\n",
            "dropout_86 (Dropout)         (None, 9, 9, 16)          0         \n",
            "_________________________________________________________________\n",
            "conv2d_98 (Conv2D)           (None, 7, 7, 32)          4640      \n",
            "_________________________________________________________________\n",
            "batch_normalization_76 (Batc (None, 7, 7, 32)          128       \n",
            "_________________________________________________________________\n",
            "dropout_87 (Dropout)         (None, 7, 7, 32)          0         \n",
            "_________________________________________________________________\n",
            "conv2d_99 (Conv2D)           (None, 7, 7, 10)          330       \n",
            "_________________________________________________________________\n",
            "dropout_88 (Dropout)         (None, 7, 7, 10)          0         \n",
            "_________________________________________________________________\n",
            "conv2d_100 (Conv2D)          (None, 1, 1, 10)          4910      \n",
            "_________________________________________________________________\n",
            "flatten_12 (Flatten)         (None, 10)                0         \n",
            "_________________________________________________________________\n",
            "activation_12 (Activation)   (None, 10)                0         \n",
            "=================================================================\n",
            "Total params: 19,096\n",
            "Trainable params: 18,856\n",
            "Non-trainable params: 240\n",
            "_________________________________________________________________\n"
          ],
          "name": "stdout"
        }
      ]
    },
    {
      "cell_type": "code",
      "metadata": {
        "id": "Zp6SuGrL9M3h",
        "colab_type": "code",
        "colab": {}
      },
      "source": [
        "model.compile(loss='categorical_crossentropy',\n",
        "             optimizer='adam',\n",
        "             metrics=['accuracy'])"
      ],
      "execution_count": 0,
      "outputs": []
    },
    {
      "cell_type": "code",
      "metadata": {
        "id": "4xWoKhPY9Of5",
        "colab_type": "code",
        "outputId": "c8d1aae7-2c12-43fe-dcbf-5a48b30d91db",
        "colab": {
          "base_uri": "https://localhost:8080/",
          "height": 2597
        }
      },
      "source": [
        "# 60k images training images will be trained in batches of 32 images at a time. \n",
        "# One epoch consists of (60k/32 = 1875) forward propagations followed by one backward propagation\n",
        "# Network will be trained for 10 epoches and after the training, model will have the weights.\n",
        "\n",
        "\n",
        "model.fit(X_train, Y_train, batch_size=128, nb_epoch=70, verbose=1, validation_data=(X_test, Y_test))"
      ],
      "execution_count": 36,
      "outputs": [
        {
          "output_type": "stream",
          "text": [
            "/usr/local/lib/python3.6/dist-packages/ipykernel_launcher.py:3: UserWarning: The `nb_epoch` argument in `fit` has been renamed `epochs`.\n",
            "  This is separate from the ipykernel package so we can avoid doing imports until\n"
          ],
          "name": "stderr"
        },
        {
          "output_type": "stream",
          "text": [
            "Train on 60000 samples, validate on 10000 samples\n",
            "Epoch 1/70\n",
            "60000/60000 [==============================] - 11s 184us/step - loss: 0.3549 - acc: 0.8864 - val_loss: 0.0673 - val_acc: 0.9785\n",
            "Epoch 2/70\n",
            "60000/60000 [==============================] - 7s 124us/step - loss: 0.0870 - acc: 0.9727 - val_loss: 0.0449 - val_acc: 0.9848\n",
            "Epoch 3/70\n",
            "60000/60000 [==============================] - 7s 114us/step - loss: 0.0658 - acc: 0.9795 - val_loss: 0.0409 - val_acc: 0.9863\n",
            "Epoch 4/70\n",
            "60000/60000 [==============================] - 7s 115us/step - loss: 0.0548 - acc: 0.9830 - val_loss: 0.0395 - val_acc: 0.9864\n",
            "Epoch 5/70\n",
            "60000/60000 [==============================] - 7s 114us/step - loss: 0.0506 - acc: 0.9842 - val_loss: 0.0341 - val_acc: 0.9888\n",
            "Epoch 6/70\n",
            "60000/60000 [==============================] - 7s 115us/step - loss: 0.0442 - acc: 0.9862 - val_loss: 0.0304 - val_acc: 0.9906\n",
            "Epoch 7/70\n",
            "60000/60000 [==============================] - 7s 115us/step - loss: 0.0427 - acc: 0.9866 - val_loss: 0.0327 - val_acc: 0.9903\n",
            "Epoch 8/70\n",
            "60000/60000 [==============================] - 7s 115us/step - loss: 0.0390 - acc: 0.9876 - val_loss: 0.0301 - val_acc: 0.9908\n",
            "Epoch 9/70\n",
            "60000/60000 [==============================] - 7s 115us/step - loss: 0.0377 - acc: 0.9884 - val_loss: 0.0273 - val_acc: 0.9914\n",
            "Epoch 10/70\n",
            "60000/60000 [==============================] - 7s 115us/step - loss: 0.0340 - acc: 0.9895 - val_loss: 0.0240 - val_acc: 0.9920\n",
            "Epoch 11/70\n",
            "60000/60000 [==============================] - 7s 115us/step - loss: 0.0324 - acc: 0.9891 - val_loss: 0.0300 - val_acc: 0.9902\n",
            "Epoch 12/70\n",
            "60000/60000 [==============================] - 7s 116us/step - loss: 0.0317 - acc: 0.9898 - val_loss: 0.0271 - val_acc: 0.9914\n",
            "Epoch 13/70\n",
            "60000/60000 [==============================] - 7s 125us/step - loss: 0.0304 - acc: 0.9904 - val_loss: 0.0281 - val_acc: 0.9916\n",
            "Epoch 14/70\n",
            "60000/60000 [==============================] - 7s 117us/step - loss: 0.0284 - acc: 0.9908 - val_loss: 0.0324 - val_acc: 0.9907\n",
            "Epoch 15/70\n",
            "60000/60000 [==============================] - 7s 115us/step - loss: 0.0292 - acc: 0.9908 - val_loss: 0.0276 - val_acc: 0.9914\n",
            "Epoch 16/70\n",
            "60000/60000 [==============================] - 7s 115us/step - loss: 0.0270 - acc: 0.9917 - val_loss: 0.0253 - val_acc: 0.9923\n",
            "Epoch 17/70\n",
            "60000/60000 [==============================] - 7s 115us/step - loss: 0.0263 - acc: 0.9914 - val_loss: 0.0228 - val_acc: 0.9931\n",
            "Epoch 18/70\n",
            "60000/60000 [==============================] - 7s 114us/step - loss: 0.0251 - acc: 0.9921 - val_loss: 0.0250 - val_acc: 0.9918\n",
            "Epoch 19/70\n",
            "60000/60000 [==============================] - 7s 114us/step - loss: 0.0240 - acc: 0.9922 - val_loss: 0.0257 - val_acc: 0.9922\n",
            "Epoch 20/70\n",
            "60000/60000 [==============================] - 7s 115us/step - loss: 0.0239 - acc: 0.9927 - val_loss: 0.0238 - val_acc: 0.9930\n",
            "Epoch 21/70\n",
            "60000/60000 [==============================] - 7s 114us/step - loss: 0.0238 - acc: 0.9925 - val_loss: 0.0244 - val_acc: 0.9925\n",
            "Epoch 22/70\n",
            "60000/60000 [==============================] - 7s 115us/step - loss: 0.0246 - acc: 0.9917 - val_loss: 0.0227 - val_acc: 0.9931\n",
            "Epoch 23/70\n",
            "60000/60000 [==============================] - 7s 114us/step - loss: 0.0217 - acc: 0.9929 - val_loss: 0.0306 - val_acc: 0.9904\n",
            "Epoch 24/70\n",
            "60000/60000 [==============================] - 7s 121us/step - loss: 0.0234 - acc: 0.9926 - val_loss: 0.0236 - val_acc: 0.9935\n",
            "Epoch 25/70\n",
            "60000/60000 [==============================] - 7s 123us/step - loss: 0.0214 - acc: 0.9932 - val_loss: 0.0242 - val_acc: 0.9926\n",
            "Epoch 26/70\n",
            "60000/60000 [==============================] - 7s 115us/step - loss: 0.0204 - acc: 0.9933 - val_loss: 0.0227 - val_acc: 0.9931\n",
            "Epoch 27/70\n",
            "60000/60000 [==============================] - 7s 115us/step - loss: 0.0217 - acc: 0.9932 - val_loss: 0.0211 - val_acc: 0.9936\n",
            "Epoch 28/70\n",
            "60000/60000 [==============================] - 7s 116us/step - loss: 0.0199 - acc: 0.9934 - val_loss: 0.0253 - val_acc: 0.9920\n",
            "Epoch 29/70\n",
            "60000/60000 [==============================] - 8s 128us/step - loss: 0.0196 - acc: 0.9934 - val_loss: 0.0222 - val_acc: 0.9928\n",
            "Epoch 30/70\n",
            "60000/60000 [==============================] - 7s 118us/step - loss: 0.0194 - acc: 0.9938 - val_loss: 0.0223 - val_acc: 0.9935\n",
            "Epoch 31/70\n",
            "60000/60000 [==============================] - 7s 114us/step - loss: 0.0194 - acc: 0.9937 - val_loss: 0.0288 - val_acc: 0.9917\n",
            "Epoch 32/70\n",
            "60000/60000 [==============================] - 7s 115us/step - loss: 0.0198 - acc: 0.9935 - val_loss: 0.0218 - val_acc: 0.9929\n",
            "Epoch 33/70\n",
            "60000/60000 [==============================] - 7s 114us/step - loss: 0.0185 - acc: 0.9939 - val_loss: 0.0245 - val_acc: 0.9927\n",
            "Epoch 34/70\n",
            "60000/60000 [==============================] - 7s 115us/step - loss: 0.0182 - acc: 0.9939 - val_loss: 0.0231 - val_acc: 0.9931\n",
            "Epoch 35/70\n",
            "60000/60000 [==============================] - 7s 116us/step - loss: 0.0165 - acc: 0.9945 - val_loss: 0.0230 - val_acc: 0.9932\n",
            "Epoch 36/70\n",
            "60000/60000 [==============================] - 7s 125us/step - loss: 0.0191 - acc: 0.9938 - val_loss: 0.0230 - val_acc: 0.9933\n",
            "Epoch 37/70\n",
            "60000/60000 [==============================] - 7s 117us/step - loss: 0.0187 - acc: 0.9937 - val_loss: 0.0221 - val_acc: 0.9930\n",
            "Epoch 38/70\n",
            "60000/60000 [==============================] - 7s 115us/step - loss: 0.0161 - acc: 0.9947 - val_loss: 0.0225 - val_acc: 0.9935\n",
            "Epoch 39/70\n",
            "60000/60000 [==============================] - 7s 115us/step - loss: 0.0174 - acc: 0.9945 - val_loss: 0.0221 - val_acc: 0.9926\n",
            "Epoch 40/70\n",
            "60000/60000 [==============================] - 7s 115us/step - loss: 0.0159 - acc: 0.9946 - val_loss: 0.0263 - val_acc: 0.9923\n",
            "Epoch 41/70\n",
            "60000/60000 [==============================] - 7s 115us/step - loss: 0.0160 - acc: 0.9947 - val_loss: 0.0248 - val_acc: 0.9936\n",
            "Epoch 42/70\n",
            "60000/60000 [==============================] - 7s 115us/step - loss: 0.0172 - acc: 0.9946 - val_loss: 0.0211 - val_acc: 0.9933\n",
            "Epoch 43/70\n",
            "60000/60000 [==============================] - 7s 115us/step - loss: 0.0163 - acc: 0.9948 - val_loss: 0.0211 - val_acc: 0.9939\n",
            "Epoch 44/70\n",
            "60000/60000 [==============================] - 7s 115us/step - loss: 0.0171 - acc: 0.9945 - val_loss: 0.0195 - val_acc: 0.9936\n",
            "Epoch 45/70\n",
            "60000/60000 [==============================] - 7s 115us/step - loss: 0.0161 - acc: 0.9946 - val_loss: 0.0216 - val_acc: 0.9932\n",
            "Epoch 46/70\n",
            "60000/60000 [==============================] - 7s 122us/step - loss: 0.0161 - acc: 0.9950 - val_loss: 0.0211 - val_acc: 0.9935\n",
            "Epoch 47/70\n",
            "60000/60000 [==============================] - 7s 121us/step - loss: 0.0150 - acc: 0.9953 - val_loss: 0.0228 - val_acc: 0.9939\n",
            "Epoch 48/70\n",
            "60000/60000 [==============================] - 7s 122us/step - loss: 0.0151 - acc: 0.9951 - val_loss: 0.0221 - val_acc: 0.9926\n",
            "Epoch 49/70\n",
            "60000/60000 [==============================] - 7s 114us/step - loss: 0.0133 - acc: 0.9954 - val_loss: 0.0241 - val_acc: 0.9937\n",
            "Epoch 50/70\n",
            "60000/60000 [==============================] - 7s 115us/step - loss: 0.0148 - acc: 0.9950 - val_loss: 0.0218 - val_acc: 0.9935\n",
            "Epoch 51/70\n",
            "60000/60000 [==============================] - 7s 115us/step - loss: 0.0149 - acc: 0.9953 - val_loss: 0.0258 - val_acc: 0.9923\n",
            "Epoch 52/70\n",
            "60000/60000 [==============================] - 7s 114us/step - loss: 0.0147 - acc: 0.9952 - val_loss: 0.0252 - val_acc: 0.9927\n",
            "Epoch 53/70\n",
            "60000/60000 [==============================] - 7s 115us/step - loss: 0.0148 - acc: 0.9948 - val_loss: 0.0233 - val_acc: 0.9922\n",
            "Epoch 54/70\n",
            "60000/60000 [==============================] - 7s 115us/step - loss: 0.0140 - acc: 0.9954 - val_loss: 0.0250 - val_acc: 0.9931\n",
            "Epoch 55/70\n",
            "60000/60000 [==============================] - 7s 114us/step - loss: 0.0147 - acc: 0.9952 - val_loss: 0.0337 - val_acc: 0.9904\n",
            "Epoch 56/70\n",
            "60000/60000 [==============================] - 7s 115us/step - loss: 0.0137 - acc: 0.9953 - val_loss: 0.0207 - val_acc: 0.9933\n",
            "Epoch 57/70\n",
            "60000/60000 [==============================] - 7s 115us/step - loss: 0.0130 - acc: 0.9956 - val_loss: 0.0226 - val_acc: 0.9944\n",
            "Epoch 58/70\n",
            "60000/60000 [==============================] - 7s 116us/step - loss: 0.0133 - acc: 0.9957 - val_loss: 0.0238 - val_acc: 0.9929\n",
            "Epoch 59/70\n",
            "60000/60000 [==============================] - 7s 125us/step - loss: 0.0143 - acc: 0.9951 - val_loss: 0.0252 - val_acc: 0.9930\n",
            "Epoch 60/70\n",
            "60000/60000 [==============================] - 7s 118us/step - loss: 0.0142 - acc: 0.9954 - val_loss: 0.0241 - val_acc: 0.9928\n",
            "Epoch 61/70\n",
            "60000/60000 [==============================] - 7s 115us/step - loss: 0.0132 - acc: 0.9954 - val_loss: 0.0211 - val_acc: 0.9940\n",
            "Epoch 62/70\n",
            "60000/60000 [==============================] - 7s 114us/step - loss: 0.0135 - acc: 0.9954 - val_loss: 0.0240 - val_acc: 0.9930\n",
            "Epoch 63/70\n",
            "60000/60000 [==============================] - 7s 115us/step - loss: 0.0130 - acc: 0.9955 - val_loss: 0.0254 - val_acc: 0.9930\n",
            "Epoch 64/70\n",
            "60000/60000 [==============================] - 7s 114us/step - loss: 0.0121 - acc: 0.9961 - val_loss: 0.0227 - val_acc: 0.9942\n",
            "Epoch 65/70\n",
            "60000/60000 [==============================] - 7s 114us/step - loss: 0.0117 - acc: 0.9961 - val_loss: 0.0247 - val_acc: 0.9927\n",
            "Epoch 66/70\n",
            "60000/60000 [==============================] - 7s 115us/step - loss: 0.0124 - acc: 0.9959 - val_loss: 0.0238 - val_acc: 0.9933\n",
            "Epoch 67/70\n",
            "60000/60000 [==============================] - 7s 115us/step - loss: 0.0117 - acc: 0.9963 - val_loss: 0.0270 - val_acc: 0.9930\n",
            "Epoch 68/70\n",
            "60000/60000 [==============================] - 7s 114us/step - loss: 0.0141 - acc: 0.9955 - val_loss: 0.0260 - val_acc: 0.9931\n",
            "Epoch 69/70\n",
            "60000/60000 [==============================] - 7s 115us/step - loss: 0.0137 - acc: 0.9953 - val_loss: 0.0255 - val_acc: 0.9927\n",
            "Epoch 70/70\n",
            "60000/60000 [==============================] - 7s 120us/step - loss: 0.0113 - acc: 0.9964 - val_loss: 0.0235 - val_acc: 0.9934\n"
          ],
          "name": "stdout"
        },
        {
          "output_type": "execute_result",
          "data": {
            "text/plain": [
              "<keras.callbacks.History at 0x7f7e47e0a8d0>"
            ]
          },
          "metadata": {
            "tags": []
          },
          "execution_count": 36
        }
      ]
    },
    {
      "cell_type": "code",
      "metadata": {
        "id": "AtsH-lLk-eLb",
        "colab_type": "code",
        "colab": {}
      },
      "source": [
        "# For each of 10k images in the testset, predict the labels and check how many of them are matching with Y_test. Based this arrive at a score.\n",
        "\n",
        "\n",
        "score = model.evaluate(X_test, Y_test, verbose=0)"
      ],
      "execution_count": 0,
      "outputs": []
    },
    {
      "cell_type": "code",
      "metadata": {
        "id": "mkX8JMv79q9r",
        "colab_type": "code",
        "outputId": "ae90ffb5-0e44-4468-8598-968a0bb13165",
        "colab": {
          "base_uri": "https://localhost:8080/",
          "height": 35
        }
      },
      "source": [
        "#Print the score\n",
        "\n",
        "print(score)"
      ],
      "execution_count": 38,
      "outputs": [
        {
          "output_type": "stream",
          "text": [
            "[0.023460665055461506, 0.9934]\n"
          ],
          "name": "stdout"
        }
      ]
    },
    {
      "cell_type": "code",
      "metadata": {
        "id": "OCWoJkwE9suh",
        "colab_type": "code",
        "colab": {}
      },
      "source": [
        "# For each of 10k images in the testset, predict the labels\n",
        "\n",
        "y_pred = model.predict(X_test)"
      ],
      "execution_count": 0,
      "outputs": []
    },
    {
      "cell_type": "code",
      "metadata": {
        "id": "Ym7iCFBm9uBs",
        "colab_type": "code",
        "outputId": "6418e6b3-fbe8-4646-e1ff-2aaca5afe34b",
        "colab": {
          "base_uri": "https://localhost:8080/",
          "height": 515
        }
      },
      "source": [
        "# For first 9 images in the testset, print the predicted labels and the actual labels from the y_test\n",
        "\n",
        "print(y_pred[:9])\n",
        "print(y_test[:9])"
      ],
      "execution_count": 0,
      "outputs": [
        {
          "output_type": "stream",
          "text": [
            "[[1.27997493e-13 6.96910238e-11 5.37079756e-12 2.82401480e-09\n",
            "  6.38632667e-17 1.79516402e-11 3.81066395e-29 1.00000000e+00\n",
            "  3.26918874e-11 1.20911092e-09]\n",
            " [5.83159985e-13 1.52032276e-11 1.00000000e+00 4.81432472e-12\n",
            "  5.10835777e-16 3.54866174e-16 1.35627046e-12 1.14241695e-19\n",
            "  1.97347489e-08 9.29729767e-17]\n",
            " [2.62319528e-12 9.99999881e-01 5.81982691e-11 1.93226376e-13\n",
            "  1.05108796e-07 6.73482548e-10 1.56958745e-12 8.41203496e-11\n",
            "  7.42241598e-12 1.92610031e-17]\n",
            " [9.99999285e-01 1.97642316e-23 3.37134190e-14 3.43292154e-14\n",
            "  5.88323335e-13 1.54663171e-09 4.80105086e-07 7.61305590e-15\n",
            "  2.66520090e-07 1.34162148e-09]\n",
            " [1.11009771e-19 5.03615113e-22 4.04241838e-22 9.23505411e-16\n",
            "  9.99999881e-01 8.81633828e-12 8.55862202e-13 1.17816425e-11\n",
            "  6.82094499e-15 1.35620894e-07]\n",
            " [4.95181895e-10 1.00000000e+00 2.16125617e-10 1.64923615e-16\n",
            "  4.75109019e-08 4.72187350e-12 6.84138293e-13 8.30072788e-10\n",
            "  7.72192119e-12 1.09908869e-17]\n",
            " [1.19618474e-32 1.62606761e-14 5.39103397e-32 4.04181935e-21\n",
            "  1.00000000e+00 1.32671801e-13 1.65253287e-20 2.23655323e-14\n",
            "  8.95398977e-10 3.89312818e-11]\n",
            " [3.41773485e-11 4.15717993e-09 1.77396778e-10 4.03698325e-10\n",
            "  8.80845619e-06 1.70032088e-09 1.68460233e-14 1.64016703e-10\n",
            "  1.76643358e-08 9.99991179e-01]\n",
            " [4.77914286e-09 8.88952662e-25 9.39766594e-18 7.86031169e-19\n",
            "  3.24220564e-30 9.99854684e-01 1.45256301e-04 2.74944742e-26\n",
            "  1.37695952e-10 1.66264935e-20]]\n",
            "[7 2 1 0 4 1 4 9 5]\n"
          ],
          "name": "stdout"
        }
      ]
    }
  ]
}