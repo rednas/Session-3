{
  "nbformat": 4,
  "nbformat_minor": 0,
  "metadata": {
    "colab": {
      "name": "MNIST 99.4 with 20k",
      "version": "0.3.2",
      "provenance": [],
      "collapsed_sections": []
    },
    "kernelspec": {
      "name": "python3",
      "display_name": "Python 3"
    },
    "accelerator": "GPU"
  },
  "cells": [
    {
      "cell_type": "code",
      "metadata": {
        "id": "3m3w1Cw49Zkt",
        "colab_type": "code",
        "outputId": "1b854fd7-f927-41d8-dc4a-035af4ad1497",
        "colab": {
          "base_uri": "https://localhost:8080/",
          "height": 35
        }
      },
      "source": [
        "# https://keras.io/\n",
        "\n",
        "#Statement start with \"!\" is a command in Colab.\n",
        "#The following command will quitly install keras python module from python packaging index\n",
        "#After installing keras, it is being imported\n",
        "\n",
        "!pip install -q keras\n",
        "import keras"
      ],
      "execution_count": 0,
      "outputs": [
        {
          "output_type": "stream",
          "text": [
            "Using TensorFlow backend.\n"
          ],
          "name": "stderr"
        }
      ]
    },
    {
      "cell_type": "code",
      "metadata": {
        "id": "Eso6UHE080D4",
        "colab_type": "code",
        "colab": {}
      },
      "source": [
        "#numpy is imported with \"np\" as kind of alias. \n",
        "#From here on we can use np instead of numpy.\n",
        "\n",
        "import numpy as np\n",
        "\n",
        "#The following would import relevant models and layer. \n",
        "#Also, we have imported the mnist data set.\n",
        "\n",
        "from keras.models import Sequential\n",
        "from keras.layers import Dense, Dropout, Activation, Flatten, Add\n",
        "from keras.layers import Convolution2D, MaxPooling2D\n",
        "from keras.utils import np_utils\n",
        "\n",
        "from keras.datasets import mnist"
      ],
      "execution_count": 0,
      "outputs": []
    },
    {
      "cell_type": "code",
      "metadata": {
        "id": "7eRM0QWN83PV",
        "colab_type": "code",
        "outputId": "40ac0e91-bdaf-47be-dd4b-9872ee58c07b",
        "colab": {
          "base_uri": "https://localhost:8080/",
          "height": 52
        }
      },
      "source": [
        "# Load MNIST data set into training data and test set data\n",
        "# There are 70,000 images with their labels in MNIST dataset.\n",
        "# Randomly, 60k will be loaded into X_train and their corresponding labels y_train.\n",
        "# Remaining 10k images will be loaded into X_test and their labels y_test.\n",
        "\n",
        "(X_train, y_train), (X_test, y_test) = mnist.load_data()"
      ],
      "execution_count": 0,
      "outputs": [
        {
          "output_type": "stream",
          "text": [
            "Downloading data from https://s3.amazonaws.com/img-datasets/mnist.npz\n",
            "11493376/11490434 [==============================] - 2s 0us/step\n"
          ],
          "name": "stdout"
        }
      ]
    },
    {
      "cell_type": "code",
      "metadata": {
        "id": "4a4Be72j8-ZC",
        "colab_type": "code",
        "outputId": "7bad2070-6131-4350-909f-c9bc5f2438fa",
        "colab": {
          "base_uri": "https://localhost:8080/",
          "height": 304
        }
      },
      "source": [
        "#Printing the shape of Training data set\n",
        "#From this print statement, there are 60,000 images in X train of size 28X28.\n",
        "#Correspoindingly, y_train is a column matrics of size 60000\n",
        "\n",
        "print (X_train.shape)\n",
        "\n",
        "\n",
        "# Using plt.imshow method from matplot library, the first image is printed. y[0] will be have a value of 5.\n",
        "from matplotlib import pyplot as plt\n",
        "%matplotlib inline\n",
        "plt.imshow(X_train[0])"
      ],
      "execution_count": 0,
      "outputs": [
        {
          "output_type": "stream",
          "text": [
            "(60000, 28, 28)\n"
          ],
          "name": "stdout"
        },
        {
          "output_type": "execute_result",
          "data": {
            "text/plain": [
              "<matplotlib.image.AxesImage at 0x7f51a71a4e10>"
            ]
          },
          "metadata": {
            "tags": []
          },
          "execution_count": 4
        },
        {
          "output_type": "display_data",
          "data": {
            "image/png": "[encoded data removed]",
            "text/plain": [
              "<Figure size 432x288 with 1 Axes>"
            ]
          },
          "metadata": {
            "tags": []
          }
        }
      ]
    },
    {
      "cell_type": "code",
      "metadata": {
        "id": "dkmprriw9AnZ",
        "colab_type": "code",
        "colab": {}
      },
      "source": [
        "#Convert the images in training dataset and test set into multidimentional arrays of their pixel intensity values.\n",
        "\n",
        "X_train = X_train.reshape(X_train.shape[0], 28, 28,1)\n",
        "X_test = X_test.reshape(X_test.shape[0], 28, 28,1)"
      ],
      "execution_count": 0,
      "outputs": []
    },
    {
      "cell_type": "code",
      "metadata": {
        "id": "X2m4YS4E9CRh",
        "colab_type": "code",
        "colab": {}
      },
      "source": [
        "#Convert the pixel intensity values into floating point value and normalize the pixel intensities by dividing with 255. Max value of pixel intensity is 255.\n",
        "\n",
        "X_train = X_train.astype('float32')\n",
        "X_test = X_test.astype('float32')\n",
        "X_train /= 255\n",
        "X_test /= 255"
      ],
      "execution_count": 0,
      "outputs": []
    },
    {
      "cell_type": "code",
      "metadata": {
        "id": "0Mn0vAYD9DvB",
        "colab_type": "code",
        "outputId": "0d45346a-230c-4afb-ecca-5afe377be318",
        "colab": {
          "base_uri": "https://localhost:8080/",
          "height": 35
        }
      },
      "source": [
        "# Convert 1-dimensional class arrays to 10-dimensional class matrices\n",
        "\n",
        "y_train[:10]"
      ],
      "execution_count": 0,
      "outputs": [
        {
          "output_type": "execute_result",
          "data": {
            "text/plain": [
              "array([5, 0, 4, 1, 9, 2, 1, 3, 1, 4], dtype=uint8)"
            ]
          },
          "metadata": {
            "tags": []
          },
          "execution_count": 9
        }
      ]
    },
    {
      "cell_type": "code",
      "metadata": {
        "id": "ZG8JiXR39FHC",
        "colab_type": "code",
        "colab": {}
      },
      "source": [
        "# Convert 1-dimensional class arrays to 10-dimensional class matrices\n",
        "\n",
        "# This will convert the numbers in the Y_train and y_test into column metrics of size 10. Element corresponding to the number will have value 1 and all other elements will be 0.\n",
        "# For example, 5 will be represented by the column matrics [0,0,0,0,1,0,0,0,0,0]\n",
        "\n",
        "\n",
        "Y_train = np_utils.to_categorical(y_train, 10)\n",
        "Y_test = np_utils.to_categorical(y_test, 10)"
      ],
      "execution_count": 0,
      "outputs": []
    },
    {
      "cell_type": "code",
      "metadata": {
        "id": "fYlFRvKS9HMB",
        "colab_type": "code",
        "outputId": "dcb8e1f2-f38f-4505-fd69-f04be882521b",
        "colab": {
          "base_uri": "https://localhost:8080/",
          "height": 195
        }
      },
      "source": [
        "#Print first 10 elements in the Y_train after converting into catogorical matrices.\n",
        "\n",
        "Y_train[:10]\n"
      ],
      "execution_count": 0,
      "outputs": [
        {
          "output_type": "execute_result",
          "data": {
            "text/plain": [
              "array([[0., 0., 0., 0., 0., 1., 0., 0., 0., 0.],\n",
              "       [1., 0., 0., 0., 0., 0., 0., 0., 0., 0.],\n",
              "       [0., 0., 0., 0., 1., 0., 0., 0., 0., 0.],\n",
              "       [0., 1., 0., 0., 0., 0., 0., 0., 0., 0.],\n",
              "       [0., 0., 0., 0., 0., 0., 0., 0., 0., 1.],\n",
              "       [0., 0., 1., 0., 0., 0., 0., 0., 0., 0.],\n",
              "       [0., 1., 0., 0., 0., 0., 0., 0., 0., 0.],\n",
              "       [0., 0., 0., 1., 0., 0., 0., 0., 0., 0.],\n",
              "       [0., 1., 0., 0., 0., 0., 0., 0., 0., 0.],\n",
              "       [0., 0., 0., 0., 1., 0., 0., 0., 0., 0.]], dtype=float32)"
            ]
          },
          "metadata": {
            "tags": []
          },
          "execution_count": 11
        }
      ]
    },
    {
      "cell_type": "code",
      "metadata": {
        "id": "osKqT73Q9JJB",
        "colab_type": "code",
        "outputId": "9e7f05ee-96c9-4c2a-a2e7-f0fa457d62f0",
        "colab": {
          "base_uri": "https://localhost:8080/",
          "height": 304
        }
      },
      "source": [
        "\n",
        "\n",
        "from keras.layers import Activation\n",
        "model = Sequential()\n",
        "\n",
        " \n",
        "model.add(Convolution2D(8, 3, 3, activation='relu', input_shape=(28,28,1)))\n",
        "model.add(Convolution2D(16, 3, 3, activation='relu'))\n",
        "model.add(Convolution2D(16, 3, 3, activation='relu'))\n",
        "model.add(Convolution2D(32, 3, 3, activation='relu'))\n",
        "model.add(Convolution2D(8, 1, activation='relu'))\n",
        "model.add(MaxPooling2D(2, 2))\n",
        "\n",
        "model.add(Convolution2D(8, 4, 4, activation='relu'))\n",
        "model.add(Convolution2D(16, 3, 3, activation='relu'))\n",
        "model.add(Convolution2D(32, 3, 3, activation='relu'))\n",
        "model.add(Convolution2D(10, 1, activation='relu'))\n",
        "\n",
        "model.add(Convolution2D(10, 3, 3))\n",
        "\n",
        "model.add(Flatten())\n",
        "model.add(Activation('softmax'))"
      ],
      "execution_count": 0,
      "outputs": [
        {
          "output_type": "stream",
          "text": [
            "/usr/local/lib/python3.6/dist-packages/ipykernel_launcher.py:5: UserWarning: Update your `Conv2D` call to the Keras 2 API: `Conv2D(8, (3, 3), activation=\"relu\", input_shape=(28, 28, 1...)`\n",
            "  \"\"\"\n",
            "/usr/local/lib/python3.6/dist-packages/ipykernel_launcher.py:6: UserWarning: Update your `Conv2D` call to the Keras 2 API: `Conv2D(16, (3, 3), activation=\"relu\")`\n",
            "  \n",
            "/usr/local/lib/python3.6/dist-packages/ipykernel_launcher.py:7: UserWarning: Update your `Conv2D` call to the Keras 2 API: `Conv2D(16, (3, 3), activation=\"relu\")`\n",
            "  import sys\n",
            "/usr/local/lib/python3.6/dist-packages/ipykernel_launcher.py:8: UserWarning: Update your `Conv2D` call to the Keras 2 API: `Conv2D(32, (3, 3), activation=\"relu\")`\n",
            "  \n",
            "/usr/local/lib/python3.6/dist-packages/ipykernel_launcher.py:12: UserWarning: Update your `Conv2D` call to the Keras 2 API: `Conv2D(8, (4, 4), activation=\"relu\")`\n",
            "  if sys.path[0] == '':\n",
            "/usr/local/lib/python3.6/dist-packages/ipykernel_launcher.py:13: UserWarning: Update your `Conv2D` call to the Keras 2 API: `Conv2D(16, (3, 3), activation=\"relu\")`\n",
            "  del sys.path[0]\n",
            "/usr/local/lib/python3.6/dist-packages/ipykernel_launcher.py:14: UserWarning: Update your `Conv2D` call to the Keras 2 API: `Conv2D(32, (3, 3), activation=\"relu\")`\n",
            "  \n",
            "/usr/local/lib/python3.6/dist-packages/ipykernel_launcher.py:17: UserWarning: Update your `Conv2D` call to the Keras 2 API: `Conv2D(10, (3, 3))`\n"
          ],
          "name": "stderr"
        }
      ]
    },
    {
      "cell_type": "code",
      "metadata": {
        "id": "TzdAYg1k9K7Z",
        "colab_type": "code",
        "outputId": "4b465904-5400-451b-b76d-2f115887133a",
        "colab": {
          "base_uri": "https://localhost:8080/",
          "height": 604
        }
      },
      "source": [
        "model.summary()"
      ],
      "execution_count": 0,
      "outputs": [
        {
          "output_type": "stream",
          "text": [
            "_________________________________________________________________\n",
            "Layer (type)                 Output Shape              Param #   \n",
            "=================================================================\n",
            "conv2d_123 (Conv2D)          (None, 26, 26, 8)         80        \n",
            "_________________________________________________________________\n",
            "conv2d_124 (Conv2D)          (None, 24, 24, 16)        1168      \n",
            "_________________________________________________________________\n",
            "conv2d_125 (Conv2D)          (None, 22, 22, 16)        2320      \n",
            "_________________________________________________________________\n",
            "conv2d_126 (Conv2D)          (None, 20, 20, 32)        4640      \n",
            "_________________________________________________________________\n",
            "conv2d_127 (Conv2D)          (None, 20, 20, 8)         264       \n",
            "_________________________________________________________________\n",
            "max_pooling2d_14 (MaxPooling (None, 10, 10, 8)         0         \n",
            "_________________________________________________________________\n",
            "conv2d_128 (Conv2D)          (None, 7, 7, 8)           1032      \n",
            "_________________________________________________________________\n",
            "conv2d_129 (Conv2D)          (None, 5, 5, 16)          1168      \n",
            "_________________________________________________________________\n",
            "conv2d_130 (Conv2D)          (None, 3, 3, 32)          4640      \n",
            "_________________________________________________________________\n",
            "conv2d_131 (Conv2D)          (None, 3, 3, 10)          330       \n",
            "_________________________________________________________________\n",
            "conv2d_132 (Conv2D)          (None, 1, 1, 10)          910       \n",
            "_________________________________________________________________\n",
            "flatten_11 (Flatten)         (None, 10)                0         \n",
            "_________________________________________________________________\n",
            "activation_11 (Activation)   (None, 10)                0         \n",
            "=================================================================\n",
            "Total params: 16,552\n",
            "Trainable params: 16,552\n",
            "Non-trainable params: 0\n",
            "_________________________________________________________________\n"
          ],
          "name": "stdout"
        }
      ]
    },
    {
      "cell_type": "code",
      "metadata": {
        "id": "Zp6SuGrL9M3h",
        "colab_type": "code",
        "colab": {}
      },
      "source": [
        "model.compile(loss='categorical_crossentropy',\n",
        "             optimizer='adam',\n",
        "             metrics=['accuracy'])"
      ],
      "execution_count": 0,
      "outputs": []
    },
    {
      "cell_type": "code",
      "metadata": {
        "id": "4xWoKhPY9Of5",
        "colab_type": "code",
        "outputId": "29e47379-aefe-4e98-fdae-6f2552c092ac",
        "colab": {
          "base_uri": "https://localhost:8080/",
          "height": 1512
        }
      },
      "source": [
        "# 60k images training images will be trained in batches of 32 images at a time. \n",
        "# One epoch consists of (60k/32 = 1875) forward propagations followed by one backward propagation\n",
        "# Network will be trained for 10 epoches and after the training, model will have the weights.\n",
        "\n",
        "\n",
        "model.fit(X_train, Y_train, batch_size=128, nb_epoch=40, verbose=1)"
      ],
      "execution_count": 0,
      "outputs": [
        {
          "output_type": "stream",
          "text": [
            "Epoch 1/40\n",
            " 2048/60000 [>.............................] - ETA: 5s - loss: 0.0125 - acc: 0.9961"
          ],
          "name": "stdout"
        },
        {
          "output_type": "stream",
          "text": [
            "/usr/local/lib/python3.6/dist-packages/ipykernel_launcher.py:1: UserWarning: The `nb_epoch` argument in `fit` has been renamed `epochs`.\n",
            "  \"\"\"Entry point for launching an IPython kernel.\n"
          ],
          "name": "stderr"
        },
        {
          "output_type": "stream",
          "text": [
            "60000/60000 [==============================] - 4s 72us/step - loss: 0.0199 - acc: 0.9934\n",
            "Epoch 2/40\n",
            "60000/60000 [==============================] - 4s 70us/step - loss: 0.0188 - acc: 0.9934\n",
            "Epoch 3/40\n",
            "60000/60000 [==============================] - 4s 67us/step - loss: 0.0201 - acc: 0.9933\n",
            "Epoch 4/40\n",
            "60000/60000 [==============================] - 4s 66us/step - loss: 0.0188 - acc: 0.9934\n",
            "Epoch 5/40\n",
            "60000/60000 [==============================] - 4s 67us/step - loss: 0.0187 - acc: 0.9936\n",
            "Epoch 6/40\n",
            "60000/60000 [==============================] - 4s 66us/step - loss: 0.0168 - acc: 0.9944\n",
            "Epoch 7/40\n",
            "60000/60000 [==============================] - 4s 66us/step - loss: 0.0168 - acc: 0.9946\n",
            "Epoch 8/40\n",
            "60000/60000 [==============================] - 4s 67us/step - loss: 0.0153 - acc: 0.9949\n",
            "Epoch 9/40\n",
            "60000/60000 [==============================] - 4s 66us/step - loss: 0.0162 - acc: 0.9944\n",
            "Epoch 10/40\n",
            "60000/60000 [==============================] - 4s 65us/step - loss: 0.0157 - acc: 0.9948\n",
            "Epoch 11/40\n",
            "60000/60000 [==============================] - 4s 65us/step - loss: 0.0158 - acc: 0.9945\n",
            "Epoch 12/40\n",
            "60000/60000 [==============================] - 4s 66us/step - loss: 0.0142 - acc: 0.9953\n",
            "Epoch 13/40\n",
            "60000/60000 [==============================] - 4s 67us/step - loss: 0.0142 - acc: 0.9951\n",
            "Epoch 14/40\n",
            "60000/60000 [==============================] - 4s 66us/step - loss: 0.0143 - acc: 0.9948\n",
            "Epoch 15/40\n",
            "60000/60000 [==============================] - 4s 67us/step - loss: 0.0151 - acc: 0.9950\n",
            "Epoch 16/40\n",
            "60000/60000 [==============================] - 4s 66us/step - loss: 0.0132 - acc: 0.9955\n",
            "Epoch 17/40\n",
            "60000/60000 [==============================] - 4s 67us/step - loss: 0.0116 - acc: 0.9961\n",
            "Epoch 18/40\n",
            "60000/60000 [==============================] - 4s 67us/step - loss: 0.0145 - acc: 0.9949\n",
            "Epoch 19/40\n",
            "60000/60000 [==============================] - 4s 67us/step - loss: 0.0116 - acc: 0.9959\n",
            "Epoch 20/40\n",
            "60000/60000 [==============================] - 4s 71us/step - loss: 0.0125 - acc: 0.9957\n",
            "Epoch 21/40\n",
            "60000/60000 [==============================] - 4s 73us/step - loss: 0.0121 - acc: 0.9959\n",
            "Epoch 22/40\n",
            "60000/60000 [==============================] - 4s 70us/step - loss: 0.0095 - acc: 0.9968\n",
            "Epoch 23/40\n",
            "60000/60000 [==============================] - 4s 66us/step - loss: 0.0126 - acc: 0.9957\n",
            "Epoch 24/40\n",
            "60000/60000 [==============================] - 4s 67us/step - loss: 0.0105 - acc: 0.9964\n",
            "Epoch 25/40\n",
            "60000/60000 [==============================] - 4s 66us/step - loss: 0.0107 - acc: 0.9963\n",
            "Epoch 26/40\n",
            "60000/60000 [==============================] - 4s 67us/step - loss: 0.0120 - acc: 0.9959\n",
            "Epoch 27/40\n",
            "60000/60000 [==============================] - 4s 66us/step - loss: 0.0101 - acc: 0.9966\n",
            "Epoch 28/40\n",
            "60000/60000 [==============================] - 4s 66us/step - loss: 0.0096 - acc: 0.9967\n",
            "Epoch 29/40\n",
            "60000/60000 [==============================] - 4s 67us/step - loss: 0.0111 - acc: 0.9962\n",
            "Epoch 30/40\n",
            "60000/60000 [==============================] - 4s 66us/step - loss: 0.0093 - acc: 0.9969\n",
            "Epoch 31/40\n",
            "60000/60000 [==============================] - 4s 67us/step - loss: 0.0109 - acc: 0.9965\n",
            "Epoch 32/40\n",
            "60000/60000 [==============================] - 4s 67us/step - loss: 0.0109 - acc: 0.9963\n",
            "Epoch 33/40\n",
            "60000/60000 [==============================] - 4s 66us/step - loss: 0.0080 - acc: 0.9974\n",
            "Epoch 34/40\n",
            "60000/60000 [==============================] - 4s 67us/step - loss: 0.0088 - acc: 0.9970\n",
            "Epoch 35/40\n",
            "60000/60000 [==============================] - 4s 67us/step - loss: 0.0085 - acc: 0.9970\n",
            "Epoch 36/40\n",
            "60000/60000 [==============================] - 4s 66us/step - loss: 0.0100 - acc: 0.9967\n",
            "Epoch 37/40\n",
            "60000/60000 [==============================] - 4s 67us/step - loss: 0.0078 - acc: 0.9975\n",
            "Epoch 38/40\n",
            "60000/60000 [==============================] - 4s 68us/step - loss: 0.0100 - acc: 0.9966\n",
            "Epoch 39/40\n",
            "60000/60000 [==============================] - 4s 73us/step - loss: 0.0078 - acc: 0.9974\n",
            "Epoch 40/40\n",
            "60000/60000 [==============================] - 4s 71us/step - loss: 0.0087 - acc: 0.9972\n"
          ],
          "name": "stdout"
        },
        {
          "output_type": "execute_result",
          "data": {
            "text/plain": [
              "<keras.callbacks.History at 0x7f515f0f5668>"
            ]
          },
          "metadata": {
            "tags": []
          },
          "execution_count": 45
        }
      ]
    },
    {
      "cell_type": "code",
      "metadata": {
        "id": "AtsH-lLk-eLb",
        "colab_type": "code",
        "colab": {}
      },
      "source": [
        "# For each of 10k images in the testset, predict the labels and check how many of them are matching with Y_test. Based this arrive at a score.\n",
        "\n",
        "\n",
        "score = model.evaluate(X_test, Y_test, verbose=0)"
      ],
      "execution_count": 0,
      "outputs": []
    },
    {
      "cell_type": "code",
      "metadata": {
        "id": "mkX8JMv79q9r",
        "colab_type": "code",
        "outputId": "4abf049f-6ff9-406f-b00c-8fc4e657a3e6",
        "colab": {
          "base_uri": "https://localhost:8080/",
          "height": 35
        }
      },
      "source": [
        "#Print the score\n",
        "\n",
        "print(score)"
      ],
      "execution_count": 0,
      "outputs": [
        {
          "output_type": "stream",
          "text": [
            "[0.05864447294225497, 0.9874]\n"
          ],
          "name": "stdout"
        }
      ]
    },
    {
      "cell_type": "code",
      "metadata": {
        "id": "OCWoJkwE9suh",
        "colab_type": "code",
        "colab": {}
      },
      "source": [
        "# For each of 10k images in the testset, predict the labels\n",
        "\n",
        "y_pred = model.predict(X_test)"
      ],
      "execution_count": 0,
      "outputs": []
    },
    {
      "cell_type": "code",
      "metadata": {
        "id": "Ym7iCFBm9uBs",
        "colab_type": "code",
        "outputId": "6418e6b3-fbe8-4646-e1ff-2aaca5afe34b",
        "colab": {
          "base_uri": "https://localhost:8080/",
          "height": 515
        }
      },
      "source": [
        "# For first 9 images in the testset, print the predicted labels and the actual labels from the y_test\n",
        "\n",
        "print(y_pred[:9])\n",
        "print(y_test[:9])"
      ],
      "execution_count": 0,
      "outputs": [
        {
          "output_type": "stream",
          "text": [
            "[[1.27997493e-13 6.96910238e-11 5.37079756e-12 2.82401480e-09\n",
            "  6.38632667e-17 1.79516402e-11 3.81066395e-29 1.00000000e+00\n",
            "  3.26918874e-11 1.20911092e-09]\n",
            " [5.83159985e-13 1.52032276e-11 1.00000000e+00 4.81432472e-12\n",
            "  5.10835777e-16 3.54866174e-16 1.35627046e-12 1.14241695e-19\n",
            "  1.97347489e-08 9.29729767e-17]\n",
            " [2.62319528e-12 9.99999881e-01 5.81982691e-11 1.93226376e-13\n",
            "  1.05108796e-07 6.73482548e-10 1.56958745e-12 8.41203496e-11\n",
            "  7.42241598e-12 1.92610031e-17]\n",
            " [9.99999285e-01 1.97642316e-23 3.37134190e-14 3.43292154e-14\n",
            "  5.88323335e-13 1.54663171e-09 4.80105086e-07 7.61305590e-15\n",
            "  2.66520090e-07 1.34162148e-09]\n",
            " [1.11009771e-19 5.03615113e-22 4.04241838e-22 9.23505411e-16\n",
            "  9.99999881e-01 8.81633828e-12 8.55862202e-13 1.17816425e-11\n",
            "  6.82094499e-15 1.35620894e-07]\n",
            " [4.95181895e-10 1.00000000e+00 2.16125617e-10 1.64923615e-16\n",
            "  4.75109019e-08 4.72187350e-12 6.84138293e-13 8.30072788e-10\n",
            "  7.72192119e-12 1.09908869e-17]\n",
            " [1.19618474e-32 1.62606761e-14 5.39103397e-32 4.04181935e-21\n",
            "  1.00000000e+00 1.32671801e-13 1.65253287e-20 2.23655323e-14\n",
            "  8.95398977e-10 3.89312818e-11]\n",
            " [3.41773485e-11 4.15717993e-09 1.77396778e-10 4.03698325e-10\n",
            "  8.80845619e-06 1.70032088e-09 1.68460233e-14 1.64016703e-10\n",
            "  1.76643358e-08 9.99991179e-01]\n",
            " [4.77914286e-09 8.88952662e-25 9.39766594e-18 7.86031169e-19\n",
            "  3.24220564e-30 9.99854684e-01 1.45256301e-04 2.74944742e-26\n",
            "  1.37695952e-10 1.66264935e-20]]\n",
            "[7 2 1 0 4 1 4 9 5]\n"
          ],
          "name": "stdout"
        }
      ]
    }
  ]
}